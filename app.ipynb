{
 "cells": [
  {
   "cell_type": "code",
   "execution_count": 1,
   "id": "f5c20b30-bc50-444b-8f3d-baeb9120a072",
   "metadata": {},
   "outputs": [],
   "source": [
    "import numpy as np\n",
    "from flask import Flask,request,jsonify,render_template"
   ]
  },
  {
   "cell_type": "code",
   "execution_count": null,
   "id": "86deb45f-fefe-4a4a-96ac-73a78390cca2",
   "metadata": {},
   "outputs": [
    {
     "name": "stdout",
     "output_type": "stream",
     "text": [
      " * Serving Flask app '__main__'\n",
      " * Debug mode: off\n"
     ]
    },
    {
     "name": "stderr",
     "output_type": "stream",
     "text": [
      "WARNING: This is a development server. Do not use it in a production deployment. Use a production WSGI server instead.\n",
      " * Running on http://127.0.0.1:8080\n",
      "Press CTRL+C to quit\n",
      "127.0.0.1 - - [16/Jul/2024 18:10:14] \"GET / HTTP/1.1\" 200 -\n",
      "127.0.0.1 - - [16/Jul/2024 18:10:14] \"GET /static/styles.css HTTP/1.1\" 200 -\n",
      "127.0.0.1 - - [16/Jul/2024 18:10:18] \"GET /favicon.ico HTTP/1.1\" 404 -\n",
      "C:\\Users\\Asus\\anaconda3\\Lib\\site-packages\\sklearn\\base.py:439: UserWarning: X does not have valid feature names, but RandomForestClassifier was fitted with feature names\n",
      "  warnings.warn(\n",
      "127.0.0.1 - - [16/Jul/2024 18:11:07] \"POST /predict HTTP/1.1\" 200 -\n",
      "127.0.0.1 - - [16/Jul/2024 18:11:07] \"GET /static/styles.css HTTP/1.1\" 304 -\n"
     ]
    }
   ],
   "source": [
    "import numpy as np\n",
    "from flask import Flask,request,jsonify,render_template\n",
    "import pickle\n",
    "app=Flask(__name__)\n",
    "\n",
    "loaded_pickle_model = pickle.load(open(\"diabetesdp.pkl\", \"rb\"))\n",
    "\n",
    "@app.route(\"/\")\n",
    "def home():\n",
    "    return render_template(\"index.html\", css_file=\"styles.css\")\n",
    "\n",
    "@app.route(\"/predict\", methods=[\"POST\"])\n",
    "def predict():\n",
    "    float_features= [float(x) for x in request.form.values()]\n",
    "    features=[np.array(float_features)]\n",
    "    prediction=loaded_pickle_model.predict(features)\n",
    "    \n",
    "    return render_template(\"index.html\", prediction_text= \"Diabetes is {}\".format(prediction))\n",
    "\n",
    "if __name__ == \"__main__\":\n",
    "    app.run(host='127.0.0.1', port=8080)"
   ]
  },
  {
   "cell_type": "code",
   "execution_count": null,
   "id": "888f6c60-cd65-4b75-8f9f-a99548f909e3",
   "metadata": {},
   "outputs": [],
   "source": []
  }
 ],
 "metadata": {
  "kernelspec": {
   "display_name": "Python 3 (ipykernel)",
   "language": "python",
   "name": "python3"
  },
  "language_info": {
   "codemirror_mode": {
    "name": "ipython",
    "version": 3
   },
   "file_extension": ".py",
   "mimetype": "text/x-python",
   "name": "python",
   "nbconvert_exporter": "python",
   "pygments_lexer": "ipython3",
   "version": "3.11.7"
  }
 },
 "nbformat": 4,
 "nbformat_minor": 5
}
