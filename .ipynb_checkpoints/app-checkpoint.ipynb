{
 "cells": [
  {
   "cell_type": "code",
   "execution_count": 1,
   "id": "f5c20b30-bc50-444b-8f3d-baeb9120a072",
   "metadata": {},
   "outputs": [],
   "source": [
    "import numpy as np\n",
    "from flask import Flask,request,jsonify,render_template"
   ]
  },
  {
   "cell_type": "code",
   "execution_count": null,
   "id": "86deb45f-fefe-4a4a-96ac-73a78390cca2",
   "metadata": {},
   "outputs": [],
   "source": [
    "from flask import Flask, request, render_template\n",
    "import pickle\n",
    "import numpy as np\n",
    "\n",
    "app = Flask(__name__)\n",
    "\n",
    "# Load the model\n",
    "try:\n",
    "    loaded_pickle_model = pickle.load(open(\"diabetesdp.pkl\", \"rb\"))\n",
    "except Exception as e:\n",
    "    print(f\"Error loading model: {e}\")\n",
    "    loaded_pickle_model = None\n",
    "\n",
    "@app.route(\"/\")\n",
    "def home():\n",
    "    return render_template(\"index.html\")\n",
    "\n",
    "@app.route(\"/result\", methods=[\"POST\"])\n",
    "def predict():\n",
    "    if loaded_pickle_model:\n",
    "        try:\n",
    "            float_features = [float(x) for x in request.form.values()]\n",
    "            features = [np.array(float_features)]\n",
    "            prediction = loaded_pickle_model.predict(features)\n",
    "            return render_template(\"index.html\", prediction_text=\"Diabetes stage is {}\".format(prediction[0]))\n",
    "        except Exception as e:\n",
    "            print(f\"Error during prediction: {e}\")\n",
    "            return render_template(\"index.html\", prediction_text=\"An error occurred during prediction.\")\n",
    "    else:\n",
    "        return render_template(\"index.html\", prediction_text=\"Model is not loaded.\")\n",
    "\n",
    "if __name__ == \"__main__\":\n",
    "    app.run(host='127.0.0.1', port=8080)\n"
   ]
  },
  {
   "cell_type": "code",
   "execution_count": null,
   "id": "888f6c60-cd65-4b75-8f9f-a99548f909e3",
   "metadata": {},
   "outputs": [],
   "source": []
  }
 ],
 "metadata": {
  "kernelspec": {
   "display_name": "Python 3 (ipykernel)",
   "language": "python",
   "name": "python3"
  },
  "language_info": {
   "codemirror_mode": {
    "name": "ipython",
    "version": 3
   },
   "file_extension": ".py",
   "mimetype": "text/x-python",
   "name": "python",
   "nbconvert_exporter": "python",
   "pygments_lexer": "ipython3",
   "version": "3.11.7"
  }
 },
 "nbformat": 4,
 "nbformat_minor": 5
}
